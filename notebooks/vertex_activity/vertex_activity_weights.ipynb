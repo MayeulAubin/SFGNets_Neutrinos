{
 "cells": [
  {
   "cell_type": "code",
   "execution_count": 1,
   "metadata": {},
   "outputs": [],
   "source": [
    "import pickle as pk\n",
    "import torch\n",
    "import os\n",
    "os.environ[\"CUDA_VISIBLE_DEVICES\"] = \"4\""
   ]
  },
  {
   "cell_type": "code",
   "execution_count": 2,
   "metadata": {},
   "outputs": [],
   "source": [
    "with open(\"/scratch4/maubin/models/vatransformer_weights.pth\",\"rb\") as f:\n",
    "    weights = torch.load(f)"
   ]
  },
  {
   "cell_type": "code",
   "execution_count": 3,
   "metadata": {},
   "outputs": [],
   "source": [
    "with open(\"/scratch4/maubin/models/vertex_activity_model/epoch=797-step=39900.ckpt\",\"rb\") as f:\n",
    "    checkpoint = torch.load(f)"
   ]
  },
  {
   "cell_type": "code",
   "execution_count": 4,
   "metadata": {},
   "outputs": [],
   "source": [
    "weights2 = checkpoint['state_dict']"
   ]
  },
  {
   "cell_type": "code",
   "execution_count": null,
   "metadata": {},
   "outputs": [
    {
     "name": "stdout",
     "output_type": "stream",
     "text": [
      "pos_encoding_tgt.pos_embedding: Old model weight: torch.Size([6, 1, 192])\t\t New model weight: torch.Size([10, 1, 192])\n"
     ]
    }
   ],
   "source": [
    "for key in weights.keys():\n",
    "    if weights[key].shape!=weights2['model.'+key].shape:\n",
    "        print(f\"{key}: Old model weight: {weights[key].shape}\\t\\t New model weight: {weights2['model.'+key].shape}\")"
   ]
  },
  {
   "cell_type": "code",
   "execution_count": null,
   "metadata": {},
   "outputs": [],
   "source": [
    "weights[\"pos_encoding_tgt.pos_embedding\"] = weights2['model.'+\"pos_encoding_tgt.pos_embedding\"]\n",
    "with open(\"/scratch4/maubin/models/vatransformer_weights_1.pth\",\"wb\") as f:\n",
    "    torch.save(weights,f)"
   ]
  },
  {
   "cell_type": "code",
   "execution_count": 4,
   "metadata": {},
   "outputs": [],
   "source": [
    "checkpoint = torch.load(\"/scratch4/maubin/models/vertex_activity_model/epoch=799-step=40000.ckpt\")"
   ]
  },
  {
   "cell_type": "code",
   "execution_count": 4,
   "metadata": {},
   "outputs": [],
   "source": [
    "weights2 = checkpoint['state_dict']"
   ]
  },
  {
   "cell_type": "code",
   "execution_count": 5,
   "metadata": {},
   "outputs": [],
   "source": [
    "weights2 = { k[6:]:v.to('cpu') for k,v in weights2.items()}"
   ]
  },
  {
   "cell_type": "code",
   "execution_count": 6,
   "metadata": {},
   "outputs": [],
   "source": [
    "torch.save(weights2, \"/scratch4/maubin/models/vatransformer_v9.pth\")"
   ]
  },
  {
   "cell_type": "code",
   "execution_count": null,
   "metadata": {},
   "outputs": [],
   "source": []
  }
 ],
 "metadata": {
  "kernelspec": {
   "display_name": "torchenv",
   "language": "python",
   "name": "python3"
  },
  "language_info": {
   "codemirror_mode": {
    "name": "ipython",
    "version": 3
   },
   "file_extension": ".py",
   "mimetype": "text/x-python",
   "name": "python",
   "nbconvert_exporter": "python",
   "pygments_lexer": "ipython3",
   "version": "3.10.12"
  }
 },
 "nbformat": 4,
 "nbformat_minor": 2
}
